{
 "cells": [
  {
   "cell_type": "code",
   "execution_count": 1,
   "metadata": {},
   "outputs": [],
   "source": [
    "# !conda install -y requests beautifulsoup4"
   ]
  },
  {
   "cell_type": "code",
   "execution_count": 3,
   "metadata": {},
   "outputs": [
    {
     "output_type": "error",
     "ename": "ModuleNotFoundError",
     "evalue": "No module named 'bs4'",
     "traceback": [
      "\u001b[0;31m---------------------------------------------------------------------------\u001b[0m",
      "\u001b[0;31mModuleNotFoundError\u001b[0m                       Traceback (most recent call last)",
      "\u001b[0;32m<ipython-input-3-ec0987494e7e>\u001b[0m in \u001b[0;36m<module>\u001b[0;34m\u001b[0m\n\u001b[1;32m      1\u001b[0m \u001b[0;32mimport\u001b[0m \u001b[0mrequests\u001b[0m\u001b[0;34m\u001b[0m\u001b[0;34m\u001b[0m\u001b[0m\n\u001b[0;32m----> 2\u001b[0;31m \u001b[0;32mfrom\u001b[0m \u001b[0mbs4\u001b[0m \u001b[0;32mimport\u001b[0m \u001b[0mBeautifulSoup\u001b[0m\u001b[0;34m\u001b[0m\u001b[0;34m\u001b[0m\u001b[0m\n\u001b[0m\u001b[1;32m      3\u001b[0m \u001b[0;32mimport\u001b[0m \u001b[0mos\u001b[0m\u001b[0;34m\u001b[0m\u001b[0;34m\u001b[0m\u001b[0m\n\u001b[1;32m      4\u001b[0m \u001b[0;32mimport\u001b[0m \u001b[0mtime\u001b[0m\u001b[0;34m\u001b[0m\u001b[0;34m\u001b[0m\u001b[0m\n",
      "\u001b[0;31mModuleNotFoundError\u001b[0m: No module named 'bs4'"
     ]
    }
   ],
   "source": [
    "import requests\n",
    "from bs4 import BeautifulSoup\n",
    "import os\n",
    "import time"
   ]
  },
  {
   "cell_type": "code",
   "execution_count": 3,
   "metadata": {},
   "outputs": [],
   "source": [
    "path = \"acmicpc\"\n",
    "group_paths = []\n",
    "\n",
    "for file in os.listdir(path):\n",
    "    group_paths.append(os.path.join(path, file))"
   ]
  },
  {
   "cell_type": "code",
   "execution_count": 4,
   "metadata": {},
   "outputs": [],
   "source": [
    "url = \"https://www.acmicpc.net/problem/\""
   ]
  },
  {
   "cell_type": "code",
   "execution_count": 5,
   "metadata": {
    "scrolled": true
   },
   "outputs": [
    {
     "name": "stdout",
     "output_type": "stream",
     "text": [
      "acmicpc/2446.cpp > acmicpc/2446_별_찍기_-_9.cpp\n",
      "acmicpc/2523.cpp > acmicpc/2523_별_찍기_-_13.cpp\n",
      "acmicpc/10996.cpp > acmicpc/10996_별_찍기_-_21.cpp\n",
      "acmicpc/14681.cpp > acmicpc/14681_사분면_고르기.cpp\n",
      "acmicpc/14889.cpp > acmicpc/14889_스타트와_링크.cpp\n",
      "acmicpc/1541.cpp > acmicpc/1541_잃어버린_괄호.cpp\n"
     ]
    }
   ],
   "source": [
    "for _path in group_paths:\n",
    "    _basename = os.path.basename(_path)\n",
    "    _id = os.path.splitext(_basename)[0]\n",
    "    \n",
    "    if _id.isdigit() is False:\n",
    "        continue\n",
    "    \n",
    "    _dirname = os.path.dirname(_path)\n",
    "    _extension = os.path.splitext(_basename)[1]\n",
    "    \n",
    "    _url = url + str(_id)\n",
    "    \n",
    "    r = requests.get(_url)\n",
    "    \n",
    "    if r.status_code == 200:\n",
    "        soup = BeautifulSoup(r.text)\n",
    "        \n",
    "        number = soup.head.findNext('meta', {\"name\" : 'problem-id'})['content']\n",
    "        title = soup.body.findNext(\n",
    "                'div',\n",
    "                {'class':'wrapper'}\n",
    "            ).findNext(\n",
    "                'div',\n",
    "                {'class':'container content'}\n",
    "            ).findNext(\n",
    "                'div',\n",
    "                {'class':'row'}\n",
    "            ).findNext(\n",
    "                'div',\n",
    "                {'class':'col-md-12'}\n",
    "            ).findNext(\n",
    "                'div',\n",
    "                {'class':'page-header'}\n",
    "            ).findNext(\n",
    "                'h1',\n",
    "            ).findNext(\n",
    "                'span',\n",
    "                {'id':'problem_title'}\n",
    "            ).text\n",
    "        \n",
    "        new_filename = \"_\".join([number, *title.replace('/', '_').split(' ')]) + _extension\n",
    "        print(_path, \">\", os.path.join(_dirname, new_filename))\n",
    "        os.rename(_path, os.path.join(_dirname, new_filename))\n",
    "        \n",
    "    time.sleep(2)"
   ]
  },
  {
   "cell_type": "code",
   "execution_count": null,
   "metadata": {},
   "outputs": [],
   "source": []
  }
 ],
 "metadata": {
  "kernelspec": {
   "display_name": "Python 3",
   "language": "python",
   "name": "python3"
  },
  "language_info": {
   "codemirror_mode": {
    "name": "ipython",
    "version": 3
   },
   "file_extension": ".py",
   "mimetype": "text/x-python",
   "name": "python",
   "nbconvert_exporter": "python",
   "pygments_lexer": "ipython3",
   "version": "3.7.4-final"
  }
 },
 "nbformat": 4,
 "nbformat_minor": 4
}